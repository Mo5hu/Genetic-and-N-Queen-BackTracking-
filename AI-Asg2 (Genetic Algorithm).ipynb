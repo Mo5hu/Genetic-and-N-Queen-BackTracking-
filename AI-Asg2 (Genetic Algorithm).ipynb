{
 "cells": [
  {
   "cell_type": "code",
   "execution_count": 1,
   "metadata": {},
   "outputs": [],
   "source": [
    "import random\n",
    "import string\n",
    "import math\n",
    "import matplotlib.pyplot as plt \n"
   ]
  },
  {
   "cell_type": "code",
   "execution_count": 2,
   "metadata": {},
   "outputs": [],
   "source": [
    "chromosome_length = 8\n",
    "max_score = pow(2, chromosome_length) - 1\n",
    "# print(max_score)\n",
    "firstGraphData = []\n",
    "secondGraphData = []"
   ]
  },
  {
   "cell_type": "code",
   "execution_count": 3,
   "metadata": {},
   "outputs": [],
   "source": [
    "def setChromosomeLength(x):\n",
    "    global chromosome_length\n",
    "    global max_score\n",
    "    chromosome_length = x\n",
    "    max_score = pow(2, chromosome_length) - 1\n"
   ]
  },
  {
   "cell_type": "code",
   "execution_count": 4,
   "metadata": {},
   "outputs": [],
   "source": [
    "def binToDec(binary): \n",
    "      \n",
    "    binary1 = binary \n",
    "    decimal, i, n = 0, 0, 0\n",
    "    while(binary != 0): \n",
    "        dec = binary % 10\n",
    "        decimal = decimal + dec * pow(2, i) \n",
    "        binary = binary//10\n",
    "        i += 1\n",
    "    return decimal"
   ]
  },
  {
   "cell_type": "code",
   "execution_count": 5,
   "metadata": {},
   "outputs": [],
   "source": [
    "def randomString(populationSize):\n",
    "    elements = \"01\"\n",
    "    population = []\n",
    "    \n",
    "    for x in range(populationSize):\n",
    "        population.append(''.join(random.choice(elements) for i in range(chromosome_length)))\n",
    "    \n",
    "    return population"
   ]
  },
  {
   "cell_type": "code",
   "execution_count": 6,
   "metadata": {},
   "outputs": [],
   "source": [
    "def fitness(target):\n",
    "    score = binToDec(int(target))\n",
    "    return score\n",
    "    "
   ]
  },
  {
   "cell_type": "code",
   "execution_count": 7,
   "metadata": {},
   "outputs": [],
   "source": [
    "def matingPoolCreation(population, score):\n",
    "    matingPool = [x for _,x in sorted(zip(score, population))]\n",
    "    return matingPool\n",
    "    "
   ]
  },
  {
   "cell_type": "code",
   "execution_count": 8,
   "metadata": {},
   "outputs": [],
   "source": [
    "def crossover(firstParent, secondParent): \n",
    "  \n",
    "    first = list(firstParent) \n",
    "    second = list(secondParent) \n",
    "  \n",
    "    crossoverPoint = random.randint(0, chromosome_length-1) \n",
    "#     print(\"Crossover point :\", crossoverPoint) \n",
    "  \n",
    "    for i in range(crossoverPoint, chromosome_length): \n",
    "        first[i], second[i] = second[i], first[i] \n",
    "    first = ''.join(first) \n",
    "    second = ''.join(second) \n",
    "#     print(first) \n",
    "#     print(second, \"\\n\\n\") \n",
    "    return first, second \n",
    "    "
   ]
  },
  {
   "cell_type": "code",
   "execution_count": 9,
   "metadata": {},
   "outputs": [],
   "source": [
    "def parentSelection(matingPool, totalPopSize):\n",
    "    children = []\n",
    "    for i in range(math.ceil(totalPopSize/2)):\n",
    "        firstParent = random.randint(0+i, len(matingPool)-1)\n",
    "#         print(firstParent)\n",
    "        secondParent = random.randint(0+i, len(matingPool)-1)\n",
    "#         print(secondParent)\n",
    "        child = crossover(matingPool[firstParent], matingPool[secondParent])\n",
    "        children.append(child[0])\n",
    "        children.append(child[1])\n",
    "    return children"
   ]
  },
  {
   "cell_type": "code",
   "execution_count": 10,
   "metadata": {},
   "outputs": [],
   "source": [
    "def mutation(children):\n",
    "#     print(\"before Mutation\",children)\n",
    "    mutants = []\n",
    "    for i in range(len(children)):\n",
    "        child = list(children[i])\n",
    "        \n",
    "        if (random.randint(0,1) == 1):\n",
    "            child[random.randint(0, chromosome_length-1)] = '1'\n",
    "        child = ''.join(child)\n",
    "        mutants.append(child)\n",
    "#     print(\"After Mutatuion\",mutants)\n",
    "    return mutants"
   ]
  },
  {
   "cell_type": "code",
   "execution_count": 11,
   "metadata": {},
   "outputs": [],
   "source": [
    "def checkResults(Children):\n",
    "    if (fitness(pop[x]) == max_score):\n",
    "        return true\n",
    "    return false"
   ]
  },
  {
   "cell_type": "code",
   "execution_count": 12,
   "metadata": {},
   "outputs": [],
   "source": [
    "# minPop = 8\n",
    "# maxPop = 11\n",
    "\n",
    "# if (maxPop <= minPop):\n",
    "#         print(\"Error: Invalid Range!\")\n",
    "# else:\n",
    "def startGenerating():\n",
    "    generation = 0\n",
    "    results = []\n",
    "    children = []\n",
    "    checkResults = 0\n",
    "#     print(minPop)\n",
    "#     print(maxPop)\n",
    "#     print(max_score)\n",
    "    \n",
    "    for i in range(minPop, maxPop):\n",
    "        fitnessScore = []\n",
    "        pop = randomString(i)\n",
    "\n",
    "        \n",
    "        while (checkResults == 0):\n",
    "            \n",
    "#             print(\"Population\", pop)\n",
    "#             print(\"Generation\", generation)\n",
    "\n",
    "            children = []\n",
    "\n",
    "            for x in range(i):\n",
    "                if (fitness(pop[x]) == max_score):\n",
    "                    checkResults = 1\n",
    "                fitnessScore.append(fitness(pop[x]))\n",
    "            \n",
    "#             print(\"Fitness Score: \", fitnessScore)\n",
    "                \n",
    "            matingPool = matingPoolCreation(pop, fitnessScore)\n",
    "            matingPool.pop(0)\n",
    "            \n",
    "            children = parentSelection(matingPool, i)\n",
    "\n",
    "#             print(children)\n",
    "            \n",
    "            while(len(children) != i):\n",
    "                children.pop(random.randrange(len(children)))\n",
    "\n",
    "            children = mutation(children)\n",
    "\n",
    "#             print(\"Mutation\", children)\n",
    "            \n",
    "            generation += 1\n",
    "\n",
    "            pop = children\n",
    "            matingPool = []\n",
    "            fitnessScore = []\n",
    "\n",
    "        result = [generation - 1, i]\n",
    "        results.append(result)\n",
    "        generation = 0\n",
    "        checkResults = 0\n",
    "    global firstGraphData\n",
    "    firstGraphData = results\n",
    "    return results"
   ]
  },
  {
   "cell_type": "code",
   "execution_count": 13,
   "metadata": {},
   "outputs": [],
   "source": [
    "def plotFirstGraph():\n",
    "    x = [] \n",
    "    y = [] \n",
    "\n",
    "    for i in range(len(firstGraphData)):\n",
    "        y.append(firstGraphData[i][0])\n",
    "\n",
    "    for i in range(len(firstGraphData)):\n",
    "        x.append(firstGraphData[i][1])\n",
    "\n",
    "#     print(x)\n",
    "#     print(y)\n",
    "\n",
    "    plt.plot(x, y) \n",
    "\n",
    "    plt.ylim(0,100) \n",
    "    plt.xlim(0,30) \n",
    "\n",
    "    plt.xlabel('Population Size') \n",
    "    plt.ylabel('Generations to reach Goal') \n",
    "\n",
    "    plt.title(\"Population Size VS # of Generations\") \n",
    "\n",
    "    plt.show()"
   ]
  },
  {
   "cell_type": "code",
   "execution_count": 14,
   "metadata": {},
   "outputs": [],
   "source": [
    "def plotSecondGraph(data, min, max):\n",
    "    x = [] \n",
    "    y = data \n",
    "\n",
    "    for i in range(min, max + 1):\n",
    "        x.append(i)\n",
    "\n",
    "    plt.plot(x, y) \n",
    "\n",
    "    plt.ylim(0,50) \n",
    "    plt.xlim(0,30) \n",
    "\n",
    "    plt.xlabel('Chromosome Length') \n",
    "    plt.ylabel('Generations to reach Goal') \n",
    "\n",
    "    plt.title(\"Chromosome Length VS No. Of Generations\") \n",
    "\n",
    "    plt.show()    "
   ]
  },
  {
   "cell_type": "code",
   "execution_count": 15,
   "metadata": {
    "scrolled": true
   },
   "outputs": [
    {
     "name": "stdout",
     "output_type": "stream",
     "text": [
      "Enter minimum Population Size: 2\n",
      "Enter maximum Population Size: 28\n",
      "Enter minimum Chromosome Length: 4\n",
      "Enter maximum Chromosome Length: 26\n"
     ]
    },
    {
     "data": {
      "image/png": "[encoded data removed]",
      "text/plain": [
       "<Figure size 432x288 with 1 Axes>"
      ]
     },
     "metadata": {
      "needs_background": "light"
     },
     "output_type": "display_data"
    },
    {
     "data": {
      "image/png": "[encoded data removed]",
      "text/plain": [
       "<Figure size 432x288 with 1 Axes>"
      ]
     },
     "metadata": {
      "needs_background": "light"
     },
     "output_type": "display_data"
    }
   ],
   "source": [
    "minPop = int(input(\"Enter minimum Population Size: \"))\n",
    "maxPop = int(input(\"Enter maximum Population Size: \"))\n",
    "\n",
    "minLen = int(input(\"Enter minimum Chromosome Length: \"))\n",
    "maxLen = int(input(\"Enter maximum Chromosome Length: \"))\n",
    "\n",
    "setChromosomeLength(minLen)\n",
    "\n",
    "if (maxPop <= minPop):\n",
    "        print(\"Error: Invalid Range!\")\n",
    "else:\n",
    "    while(chromosome_length <= maxLen):\n",
    "        genInputs = startGenerating()\n",
    "        secondGraphData.append(firstGraphData[len(genInputs) - 1][0])         \n",
    "        setChromosomeLength(int(chromosome_length+1))\n",
    "\n",
    "    plotFirstGraph()\n",
    "    plotSecondGraph(secondGraphData, minLen, maxLen)\n",
    "    \n",
    "    setChromosomeLength(minLen)"
   ]
  },
  {
   "cell_type": "code",
   "execution_count": null,
   "metadata": {},
   "outputs": [],
   "source": [
    "# Recommended Population size is from 2 - 28 \n",
    "# Recommended Chromosome Length is from 4 - 26\n",
    "# Wait!, it might take few Secconds \n",
    "\n",
    "# Since, Graph Scale is from 0 - 30 for both Population Size and Chromosome Length"
   ]
  }
 ],
 "metadata": {
  "kernelspec": {
   "display_name": "Python 3",
   "language": "python",
   "name": "python3"
  },
  "language_info": {
   "codemirror_mode": {
    "name": "ipython",
    "version": 3
   },
   "file_extension": ".py",
   "mimetype": "text/x-python",
   "name": "python",
   "nbconvert_exporter": "python",
   "pygments_lexer": "ipython3",
   "version": "3.7.4"
  }
 },
 "nbformat": 4,
 "nbformat_minor": 2
}
