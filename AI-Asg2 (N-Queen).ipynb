{
 "cells": [
  {
   "cell_type": "code",
   "execution_count": 1,
   "metadata": {},
   "outputs": [],
   "source": [
    "global nSizeOfMatrixForChessBoard \n",
    "nSizeOfMatrixForChessBoard = 0\n",
    "global chessBoardForQueen\n",
    "chessBoardForQueen = []\n",
    "\n",
    "  \n",
    "def printFinishedBoardWithChessQueens(): \n",
    "    for iterate in range(nSizeOfMatrixForChessBoard): \n",
    "        \n",
    "#             chessBoardForQueen[iterate][iterate2]\n",
    "        print(chessBoardForQueen[iterate]) \n",
    "#         print"
   ]
  },
  {
   "cell_type": "code",
   "execution_count": 2,
   "metadata": {},
   "outputs": [],
   "source": [
    "def isTheQueenAttacking(row, column): \n",
    "  \n",
    "    # Check this row on left side to Ensure that the Queen isn't Attacking\n",
    "    for iterate in range(column): \n",
    "        if chessBoardForQueen[row][iterate] == 1: \n",
    "            return False\n",
    "  \n",
    "    # Check upper diagonal on left side to Ensure that the Queen isn't Attacking\n",
    "    for iterate, iterate2 in zip(range(row, -1, -1), range(column, -1, -1)): \n",
    "        if chessBoardForQueen[iterate][iterate2] == 1: \n",
    "            return False\n",
    "  \n",
    "    # Check lower diagonal on left side to Ensure that the Queen isn't Attacking\n",
    "    for iterate, iterate2 in zip(range(row, nSizeOfMatrixForChessBoard, 1), range(column, -1, -1)): \n",
    "        if chessBoardForQueen[iterate][iterate2] == 1: \n",
    "            return False\n",
    "  \n",
    "    return True"
   ]
  },
  {
   "cell_type": "code",
   "execution_count": 3,
   "metadata": {},
   "outputs": [],
   "source": [
    "def startToSolveNQueenRecurring(column): \n",
    "   \n",
    "    if column >= nSizeOfMatrixForChessBoard: \n",
    "        return True\n",
    "  \n",
    "    for iterate in range(nSizeOfMatrixForChessBoard): \n",
    "        if isTheQueenAttacking(iterate, column): \n",
    "            chessBoardForQueen[iterate][column] = 1\n",
    "  \n",
    "            if startToSolveNQueenRecurring(column + 1) == True: \n",
    "                return True\n",
    "  \n",
    "            chessBoardForQueen[iterate][column] = 0\n",
    "  \n",
    "    return False"
   ]
  },
  {
   "cell_type": "code",
   "execution_count": 4,
   "metadata": {},
   "outputs": [],
   "source": [
    "def startToSolveNQueen():   \n",
    "    \n",
    "    if startToSolveNQueenRecurring(0) == False: \n",
    "        print(\"Solution does not exist\")\n",
    "        return False\n",
    "  \n",
    "    printFinishedBoardWithChessQueens() \n",
    "    return True"
   ]
  },
  {
   "cell_type": "code",
   "execution_count": 5,
   "metadata": {},
   "outputs": [
    {
     "name": "stdout",
     "output_type": "stream",
     "text": [
      "15\n",
      "[1, 0, 0, 0, 0, 0, 0, 0, 0, 0, 0, 0, 0, 0, 0]\n",
      "[0, 0, 0, 1, 0, 0, 0, 0, 0, 0, 0, 0, 0, 0, 0]\n",
      "[0, 1, 0, 0, 0, 0, 0, 0, 0, 0, 0, 0, 0, 0, 0]\n",
      "[0, 0, 0, 0, 0, 0, 0, 1, 0, 0, 0, 0, 0, 0, 0]\n",
      "[0, 0, 1, 0, 0, 0, 0, 0, 0, 0, 0, 0, 0, 0, 0]\n",
      "[0, 0, 0, 0, 0, 0, 0, 0, 0, 0, 1, 0, 0, 0, 0]\n",
      "[0, 0, 0, 0, 0, 0, 0, 0, 0, 0, 0, 0, 1, 0, 0]\n",
      "[0, 0, 0, 0, 0, 0, 0, 0, 0, 0, 0, 0, 0, 0, 1]\n",
      "[0, 0, 0, 0, 0, 0, 0, 0, 0, 1, 0, 0, 0, 0, 0]\n",
      "[0, 0, 0, 0, 1, 0, 0, 0, 0, 0, 0, 0, 0, 0, 0]\n",
      "[0, 0, 0, 0, 0, 0, 0, 0, 0, 0, 0, 0, 0, 1, 0]\n",
      "[0, 0, 0, 0, 0, 1, 0, 0, 0, 0, 0, 0, 0, 0, 0]\n",
      "[0, 0, 0, 0, 0, 0, 0, 0, 1, 0, 0, 0, 0, 0, 0]\n",
      "[0, 0, 0, 0, 0, 0, 1, 0, 0, 0, 0, 0, 0, 0, 0]\n",
      "[0, 0, 0, 0, 0, 0, 0, 0, 0, 0, 0, 1, 0, 0, 0]\n"
     ]
    },
    {
     "data": {
      "text/plain": [
       "True"
      ]
     },
     "execution_count": 5,
     "metadata": {},
     "output_type": "execute_result"
    }
   ],
   "source": [
    "nSizeOfMatrixForChessBoard = int(input())\n",
    "chessBoardForQueen = [[0 for x in range(nSizeOfMatrixForChessBoard)] for y in range(nSizeOfMatrixForChessBoard)]\n",
    "\n",
    "startToSolveNQueen()\n",
    "# print(chessBoardForQueen)\n",
    "\n",
    "# 1 Representing Queen Of the game while,\n",
    "# 0 Representing the enpty cells in the board"
   ]
  },
  {
   "cell_type": "code",
   "execution_count": null,
   "metadata": {},
   "outputs": [],
   "source": []
  }
 ],
 "metadata": {
  "kernelspec": {
   "display_name": "Python 3",
   "language": "python",
   "name": "python3"
  },
  "language_info": {
   "codemirror_mode": {
    "name": "ipython",
    "version": 3
   },
   "file_extension": ".py",
   "mimetype": "text/x-python",
   "name": "python",
   "nbconvert_exporter": "python",
   "pygments_lexer": "ipython3",
   "version": "3.7.4"
  }
 },
 "nbformat": 4,
 "nbformat_minor": 2
}
